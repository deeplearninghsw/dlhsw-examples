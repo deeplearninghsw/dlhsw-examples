{
 "cells": [
  {
   "cell_type": "code",
   "execution_count": 1,
   "metadata": {},
   "outputs": [],
   "source": [
    "import numpy as np\n",
    "import pandas as pd\n",
    "import matplotlib as mpl\n",
    "import matplotlib.pyplot as plt\n",
    "import matplotlib.gridspec as gridspec\n",
    "from tensorflow import keras\n",
    "from tensorflow.keras.constraints import max_norm\n",
    "\n",
    "from utils.plotting_BGM import plot_results, plot_boundaries\n",
    "from utils.cluster_regression import gaussian_regression\n",
    "\n",
    "from sklearn.model_selection import train_test_split\n",
    "from sklearn.cluster import KMeans\n",
    "from sklearn.mixture import BayesianGaussianMixture\n",
    "from sklearn.mixture import GaussianMixture"
   ]
  },
  {
   "cell_type": "code",
   "execution_count": 2,
   "metadata": {},
   "outputs": [],
   "source": [
    "# Configurable training parameters\n",
    "Gaussian_Mixture = True\n",
    "Bayesian_Gaussian_Mixture = True\n",
    "Train_Set = False\n",
    "Test_Set = True\n",
    "\n",
    "# Load Dataset...\n",
    "df = pd.read_csv('data/ex.csv')\n",
    "\n",
    "dataset = df.copy()\n",
    "\n",
    "X = dataset.values\n",
    "x_cords = dataset['x'].values\n",
    "y_cords = dataset['y'].values"
   ]
  },
  {
   "cell_type": "code",
   "execution_count": null,
   "metadata": {},
   "outputs": [],
   "source": [
    "x_train, x_test, y_train, y_test = train_test_split(x_cords, y_cords, test_size=0.20, random_state=np.random.seed(6))\n",
    "\n",
    "X_test = np.stack((x_test, y_test), axis=1)\n",
    "X_train = np.stack((x_train, y_train), axis=1)"
   ]
  },
  {
   "cell_type": "code",
   "execution_count": null,
   "metadata": {},
   "outputs": [],
   "source": [
    "if Gaussian_Mixture:\n",
    "    if Train_Set:\n",
    "        X_gmm = X_train\n",
    "        x_cords, y_cords = x_train, y_train\n",
    "\n",
    "        gmm = GaussianMixture(\n",
    "            n_components=3,\n",
    "            covariance_type='full',\n",
    "            random_state = np.random.seed(4)).fit(X_gmm)\n",
    "        y_pred = gmm.predict(X_gmm)\n",
    "\n",
    "        # Plotting...\n",
    "        gaussian_regression(x_cords, y_cords, y_pred)\n",
    "\n",
    "    if Test_Set:\n",
    "        X_gmm = X_test\n",
    "        x_cords, y_cords = x_test, y_test\n",
    "        \n",
    "        X_gmm_train = X_train\n",
    "        x_cords_train, y_cords_train = x_train, y_train        \n",
    "\n",
    "        gmm = GaussianMixture(\n",
    "            n_components=3,\n",
    "            covariance_type='full',\n",
    "            max_iter = 500,\n",
    "            random_state = np.random.seed(4)).fit(X_gmm)\n",
    "        \n",
    "        # use train data for prediction\n",
    "        y_pred = gmm.predict(X_gmm_train)\n",
    "\n",
    "        # Plotting...\n",
    "        gaussian_regression(x_cords_train, y_cords_train, y_pred)"
   ]
  },
  {
   "cell_type": "code",
   "execution_count": null,
   "metadata": {},
   "outputs": [],
   "source": [
    "if Bayesian_Gaussian_Mixture:\n",
    "    if Train_Set:\n",
    "        X_bgm = X_train\n",
    "        x_cords, y_cords = x_train, y_train\n",
    "\n",
    "        bgm = BayesianGaussianMixture(\n",
    "            n_components=3,\n",
    "            covariance_type='full',\n",
    "            random_state = np.random.seed(3)).fit(X_bgm)\n",
    "        y_pred = bgm.predict(X_bgm)\n",
    "\n",
    "        # Plotting...\n",
    "        gaussian_regression(x_cords, y_cords, y_pred)\n",
    "\n",
    "    if Test_Set:\n",
    "        X_bgm = X_test\n",
    "        x_cords, y_cords = x_test, y_test\n",
    "        \n",
    "        X_bgm_train = X_train\n",
    "        x_cords_train, y_cords_train = x_train, y_train        \n",
    "        \n",
    "\n",
    "        bgm = BayesianGaussianMixture(\n",
    "            n_components=3,\n",
    "            covariance_type='full',\n",
    "            max_iter = 500,\n",
    "            random_state = np.random.seed(3)).fit(X_bgm)\n",
    "        \n",
    "        # use train data for prediction\n",
    "        y_pred = bgm.predict(X_bgm_train)\n",
    "\n",
    "        # Plotting...\n",
    "        gaussian_regression(x_cords_train, y_cords_train, y_pred)"
   ]
  }
 ],
 "metadata": {
  "kernelspec": {
   "display_name": "Python 3",
   "language": "python",
   "name": "python3"
  },
  "language_info": {
   "codemirror_mode": {
    "name": "ipython",
    "version": 3
   },
   "file_extension": ".py",
   "mimetype": "text/x-python",
   "name": "python",
   "nbconvert_exporter": "python",
   "pygments_lexer": "ipython3",
   "version": "3.7.9"
  }
 },
 "nbformat": 4,
 "nbformat_minor": 2
}
